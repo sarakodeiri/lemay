{
 "cells": [
  {
   "cell_type": "code",
   "execution_count": 1,
   "id": "75ba14cc",
   "metadata": {
    "vscode": {
     "languageId": "plaintext"
    }
   },
   "outputs": [],
   "source": [
    "import httpx\n",
    "import asyncio\n",
    "\n"
   ]
  },
  {
   "cell_type": "code",
   "execution_count": 2,
   "id": "c4e49d4e",
   "metadata": {
    "vscode": {
     "languageId": "plaintext"
    }
   },
   "outputs": [
    {
     "name": "stdout",
     "output_type": "stream",
     "text": [
      "Response for request #1:\n",
      "  Text: 'POSITIVE' with score: 0.9999\n",
      "  Text: 'NEGATIVE' with score: 0.9969\n",
      "--------------------\n",
      "Response for request #2:\n",
      "  Text: 'NEGATIVE' with score: 0.9900\n",
      "  Text: 'POSITIVE' with score: 0.9995\n",
      "--------------------\n",
      "Response for request #3:\n",
      "  Text: 'NEGATIVE' with score: 0.9954\n",
      "  Text: 'NEGATIVE' with score: 0.9997\n",
      "--------------------\n"
     ]
    }
   ],
   "source": [
    "async def make_request(client, text_list):\n",
    "    \"\"\"\n",
    "    sends a POST request to the server\n",
    "    \"\"\"\n",
    "    response = await client.post(\"http://localhost:8000/infer/\", json={\"texts\": text_list})\n",
    "    return response.json()\n",
    "\n",
    "async def main():\n",
    "    \"\"\"\n",
    "    sends multiple parallel requests and prints the results\n",
    "    \"\"\"\n",
    "    texts_to_analyze = [\n",
    "        [\"The weather is so great today\", \"I wish I we had never met\"],\n",
    "        [\"Nothing compares to this grief\", \"He sounded as excited as I was\"],\n",
    "        [\"I wouldn't go to that brunch place again\", \"I couldn't find the right sauce\"]\n",
    "    ]\n",
    "\n",
    "    async with httpx.AsyncClient() as client:\n",
    "        tasks = [make_request(client, texts) for texts in texts_to_analyze]\n",
    "        responses = await asyncio.gather(*tasks)\n",
    "\n",
    "        for i, response in enumerate(responses):\n",
    "            print(f\"Response for request #{i+1}:\")\n",
    "            for result in response:\n",
    "                print(f\"  Text: '{result['label']}' with score: {result['score']:.4f}\")\n",
    "            print(\"-\" * 20)\n",
    "\n",
    "# In a Jupyter environment, you can run the async main function directly\n",
    "await main()"
   ]
  },
  {
   "cell_type": "code",
   "execution_count": null,
   "id": "c6b1951f-e6e2-4bfa-89ac-e3aa0a6cabb5",
   "metadata": {},
   "outputs": [],
   "source": []
  }
 ],
 "metadata": {
  "kernelspec": {
   "display_name": "Python Inference Demo",
   "language": "python",
   "name": "hf_env"
  },
  "language_info": {
   "codemirror_mode": {
    "name": "ipython",
    "version": 3
   },
   "file_extension": ".py",
   "mimetype": "text/x-python",
   "name": "python",
   "nbconvert_exporter": "python",
   "pygments_lexer": "ipython3",
   "version": "3.8.0"
  }
 },
 "nbformat": 4,
 "nbformat_minor": 5
}
